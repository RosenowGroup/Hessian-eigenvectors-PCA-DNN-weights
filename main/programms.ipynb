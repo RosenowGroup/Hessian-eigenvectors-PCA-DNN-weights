{
 "cells": [
  {
   "cell_type": "code",
   "execution_count": null,
   "metadata": {},
   "outputs": [],
   "source": [
    "import tensorflow as tf\n",
    "import numpy as np\n",
    "from tensorflow.keras import layers, models\n",
    "import train\n",
    "import argparse\n",
    "\n",
    "parser = argparse.ArgumentParser()\n",
    "parser.add_argument(\n",
    "    '-n', '--name',\n",
    "    type=str,\n",
    "    default=\"missing name\",\n",
    "    help=\"Name of network\",\n",
    "    dest=\"name\"\n",
    ")\n",
    "parser.add_argument(\n",
    "    '-s', '--seed',\n",
    "    type=float,\n",
    "    default=1,\n",
    "    help=\"Seed for randomness\",\n",
    "    dest=\"seed\"\n",
    ")\n",
    "parser.add_argument(\n",
    "    '-l', '--layer',\n",
    "    type=str,\n",
    "    default=\"all\",\n",
    "    help=\"layer_name, give all for all layers\",\n",
    "    dest=\"layer\"\n",
    ")\n",
    "\n",
    "args=parser.parse_args()\n",
    "model_str=args.name\n",
    "layer_str=args.layer\n",
    "tf.random.set_seed(args.seed)\n",
    "\n",
    "exec(open(model_str+'/'+model_str+\".py\").read())\n",
    "model.load_weights(model_str+'/saved_model/'+model_str)\n",
    "model,weights=train.weight_measure(model,layer_str,10,final_learning_rate,x_train,y_train,batch_size)\n",
    "np.save(model_str+'/weights',weights)"
   ]
  }
 ],
 "metadata": {
  "language_info": {
   "name": "python"
  },
  "orig_nbformat": 4
 },
 "nbformat": 4,
 "nbformat_minor": 2
}
