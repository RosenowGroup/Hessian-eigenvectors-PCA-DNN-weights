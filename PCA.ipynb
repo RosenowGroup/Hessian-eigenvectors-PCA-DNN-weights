{
  "cells": [
    {
      "cell_type": "code",
      "source": [
        "# import dependencies\n",
        "import numpy as np\n",
        "from google.colab import drive\n",
        "drive.mount('/content/drive', force_remount=True) \n",
        "%cd /content/drive/MyDrive\n",
        "import matplotlib.pyplot as plt\n",
        "from sklearn.decomposition import PCA\n",
        "plt.rcParams['text.usetex'] = False\n",
        "plt.rc('font', size=18)\n",
        "plt.rcParams['figure.figsize'] = [10, 7]\n",
        "\n",
        "prop_cycle = plt.rcParams['axes.prop_cycle']\n",
        "colors = prop_cycle.by_key()['color']\n",
        "colors2 =  plt.cm.tab20( (np.arange(20)).astype(int) )"
      ],
      "metadata": {
        "id": "HV_fzkuXbt8k"
      },
      "execution_count": null,
      "outputs": []
    },
    {
      "cell_type": "code",
      "source": [
        "# load the weights of the network\n",
        "model_str='fcc_model_64r'\n",
        "weights=np.load('weights/dynamic_weights_'+model_str+'.npy')"
      ],
      "metadata": {
        "id": "YPs0wFe5Pm9g"
      },
      "execution_count": null,
      "outputs": []
    },
    {
      "cell_type": "code",
      "source": [
        "# calculate the covariance matrix\n",
        "Cov=np.cov(weights.T)\n",
        "# calculate the eigenvalues and eigenvectors\n",
        "variance,pcomp_cov=np.linalg.eigh(Cov)\n",
        "# tranpose and flip the eigenvectors such that pcomp[0] is the principal component with the highest variance\n",
        "pcomp=pcomp_cov.T[::-1]\n",
        "# save it\n",
        "np.save('weights/pc_'+model_str,pcomp)"
      ],
      "metadata": {
        "id": "8JX-9Hz6Zn7L"
      },
      "execution_count": null,
      "outputs": []
    },
    {
      "cell_type": "code",
      "source": [
        "# load the pc\n",
        "pcomp=np.load('weights/pc_'+model_str+'.npy')"
      ],
      "metadata": {
        "id": "PvOVsqJnb2s3"
      },
      "execution_count": null,
      "outputs": []
    },
    {
      "cell_type": "code",
      "source": [
        "# calculate the projection of pc to the weights\n",
        "theta=np.tensordot(pcomp,weights,axes=(1,1))"
      ],
      "metadata": {
        "id": "LMhG_ropp_Hx"
      },
      "execution_count": null,
      "outputs": []
    },
    {
      "cell_type": "code",
      "source": [
        "# plot of the drift mode\n",
        "plt.plot(theta[0])\n",
        "plt.title(\"Drift mode\")\n",
        "plt.ylabel(r\"$\\theta_0(t)$\")\n",
        "plt.xlabel(r\"$t$\")"
      ],
      "metadata": {
        "id": "VjBktG2wblVS"
      },
      "execution_count": null,
      "outputs": []
    },
    {
      "cell_type": "code",
      "source": [
        "# check if the variance of the pc is ordered as is should be\n",
        "np.var(theta,axis=1)"
      ],
      "metadata": {
        "id": "ScmVHdvdYC_7"
      },
      "execution_count": null,
      "outputs": []
    },
    {
      "cell_type": "code",
      "source": [
        "# calculate the mean of the thetas\n",
        "theta_mean=np.mean(theta,axis=1)"
      ],
      "metadata": {
        "id": "ScJqM-SCHGDg"
      },
      "execution_count": null,
      "outputs": []
    },
    {
      "cell_type": "code",
      "source": [
        "plt.plot(theta_mean,'b.')\n",
        "plt.title(\"Theta distribution\")\n",
        "plt.ylabel(r\"$<\\theta_i>$\")\n",
        "plt.xlabel(r\"$i$\")"
      ],
      "metadata": {
        "id": "0-ZQg3_bHIq1"
      },
      "execution_count": null,
      "outputs": []
    }
  ],
  "metadata": {
    "kernelspec": {
      "display_name": "Python 3.9.7 ('base')",
      "language": "python",
      "name": "python3"
    },
    "language_info": {
      "codemirror_mode": {
        "name": "ipython",
        "version": 3
      },
      "file_extension": ".py",
      "mimetype": "text/x-python",
      "name": "python",
      "nbconvert_exporter": "python",
      "pygments_lexer": "ipython3",
      "version": "3.9.7"
    },
    "orig_nbformat": 4,
    "vscode": {
      "interpreter": {
        "hash": "f08154012ddadd8e950e6e9e035c7a7b32c136e7647e9b7c77e02eb723a8bedb"
      }
    },
    "colab": {
      "provenance": []
    },
    "gpuClass": "standard"
  },
  "nbformat": 4,
  "nbformat_minor": 0
}