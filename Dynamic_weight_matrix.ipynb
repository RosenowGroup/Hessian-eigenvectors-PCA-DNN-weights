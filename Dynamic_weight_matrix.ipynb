{
  "cells": [
    {
      "cell_type": "code",
      "execution_count": null,
      "metadata": {
        "colab": {
          "base_uri": "https://localhost:8080/"
        },
        "id": "PeLDamuNU00S",
        "outputId": "25d6bb4a-a185-4ff6-92cc-5fea8e8f6337"
      },
      "outputs": [
        {
          "output_type": "stream",
          "name": "stdout",
          "text": [
            "Mounted at /content/drive\n",
            "/content/drive/MyDrive\n"
          ]
        }
      ],
      "source": [
        "# import dependencies\n",
        "import tensorflow as tf\n",
        "import numpy as np\n",
        "from google.colab import drive\n",
        "drive.mount('/content/drive', force_remount=True) \n",
        "%cd /content/drive/MyDrive"
      ]
    },
    {
      "cell_type": "code",
      "execution_count": null,
      "metadata": {
        "colab": {
          "base_uri": "https://localhost:8080/"
        },
        "id": "ltG2JoO2p11z",
        "outputId": "16e3e59a-aa3b-4a47-bdd7-427655e622e0"
      },
      "outputs": [
        {
          "output_type": "stream",
          "name": "stderr",
          "text": [
            "WARNING:tensorflow:No training configuration found in save file, so the model was *not* compiled. Compile it manually.\n"
          ]
        },
        {
          "output_type": "stream",
          "name": "stdout",
          "text": [
            "Downloading data from https://www.cs.toronto.edu/~kriz/cifar-10-python.tar.gz\n",
            "170498071/170498071 [==============================] - 11s 0us/step\n"
          ]
        }
      ],
      "source": [
        "model_str='fcc_model_64r'\n",
        "# load your model\n",
        "model=tf.keras.models.load_model('saved_model/'+model_str)\n",
        "# layer name of which the covariance matrix should be calculated\n",
        "# if you created a tf.keras sequential model use model.layers[<layer index>]\n",
        "layer_name=model.d2\n",
        "#computes the number of parameters of the layer\n",
        "layer_size=1\n",
        "for i in layer_name.get_weights()[0].shape:\n",
        "    layer_size*=i\n",
        "\n",
        "#conserve the numpy datatype\n",
        "layer_dtype=layer_name.get_weights()[0].dtype\n",
        "\n",
        "# load the data set\n",
        "(x_train, y_train), (x_test, y_test) = tf.keras.datasets.cifar10.load_data()\n",
        "x_train=x_train/255\n",
        "for i in range(x_train.shape[0]):\n",
        "    x_train[i]-=np.mean(x_train[i],axis=(0,1))\n",
        "    x_train[i]/=np.std(x_train[i],axis=(0,1))\n",
        "\n",
        "# choose batch size and learning rate\n",
        "learning_rate = 1e-2\n",
        "batch_size = 64\n",
        "\n",
        "#create batches\n",
        "train_ds = tf.data.Dataset.from_tensor_slices(\n",
        "    (x_train, y_train)).shuffle(10000).batch(batch_size)\n",
        "\n",
        "#calculate number of epochs required\n",
        "n_batches=train_ds.cardinality().numpy()\n",
        "epochs = 12 #min int(layer_size/n_batches)\n",
        "\n",
        "loss_fn = tf.keras.losses.SparseCategoricalCrossentropy()\n",
        "optimizer = tf.keras.optimizers.SGD(learning_rate=learning_rate)\n"
      ]
    },
    {
      "cell_type": "code",
      "execution_count": null,
      "metadata": {
        "colab": {
          "base_uri": "https://localhost:8080/"
        },
        "id": "bL04nofKUjYu",
        "outputId": "2c4b769e-854a-47dc-ed3f-70fa6e65928d"
      },
      "outputs": [
        {
          "output_type": "stream",
          "name": "stdout",
          "text": [
            "epoch: 1 of 12\n",
            "epoch: 2 of 12\n",
            "epoch: 3 of 12\n",
            "epoch: 4 of 12\n",
            "epoch: 5 of 12\n",
            "epoch: 6 of 12\n",
            "epoch: 7 of 12\n",
            "epoch: 8 of 12\n",
            "epoch: 9 of 12\n",
            "epoch: 10 of 12\n",
            "epoch: 11 of 12\n",
            "epoch: 12 of 12\n"
          ]
        }
      ],
      "source": [
        "#train function for one batch\n",
        "@tf.function\n",
        "def train_step(images, labels):\n",
        "  with tf.GradientTape() as tape:\n",
        "    # training=True is only needed if there are layers with different\n",
        "    # behavior during training versus inference (e.g. Dropout).\n",
        "    predictions = model(images, training=True)\n",
        "    loss=loss_fn(labels, predictions)\n",
        "    loss+=sum(model.losses)\n",
        "  #only the specific layer is updated, s.t. the full covariance matrix is calculated\n",
        "  gradients = tape.gradient(loss, model.trainable_variables)\n",
        "  optimizer.apply_gradients(zip(gradients, model.trainable_variables))\n",
        "\n",
        "weights=np.zeros((epochs*n_batches,layer_size),dtype=layer_dtype)\n",
        "index_1=0\n",
        "for epoch in range(epochs):\n",
        "  print('epoch: '+str(epoch+1)+' of '+str(epochs))\n",
        "  for images, labels in train_ds:\n",
        "    train_step(images, labels)\n",
        "    templ=layer_name.get_weights()[0].flatten()\n",
        "    weights[index_1]=templ\n",
        "    index_1+=1\n",
        "    \n",
        "#calculate the covariance matrix\n",
        "np.save('weights/dynamic_weights_'+model_str,weights)"
      ]
    },
    {
      "cell_type": "code",
      "execution_count": null,
      "metadata": {
        "colab": {
          "base_uri": "https://localhost:8080/"
        },
        "id": "WFvkcwhFpgtM",
        "outputId": "3776b957-2118-4c0b-cd41-94c9eee1c6c3"
      },
      "outputs": [
        {
          "name": "stderr",
          "output_type": "stream",
          "text": [
            "WARNING:absl:Found untraced functions such as flatten_layer_call_fn, flatten_layer_call_and_return_conditional_losses, dense_layer_call_fn, dense_layer_call_and_return_conditional_losses, dense_1_layer_call_fn while saving (showing 5 of 10). These functions will not be directly callable after loading.\n"
          ]
        }
      ],
      "source": [
        "model.save('saved_model/'+model_str)"
      ]
    }
  ],
  "metadata": {
    "colab": {
      "provenance": []
    },
    "gpuClass": "standard",
    "kernelspec": {
      "display_name": "Python 3.9.7 ('base')",
      "language": "python",
      "name": "python3"
    },
    "language_info": {
      "codemirror_mode": {
        "name": "ipython",
        "version": 3
      },
      "file_extension": ".py",
      "mimetype": "text/x-python",
      "name": "python",
      "nbconvert_exporter": "python",
      "pygments_lexer": "ipython3",
      "version": "3.9.7"
    },
    "vscode": {
      "interpreter": {
        "hash": "f08154012ddadd8e950e6e9e035c7a7b32c136e7647e9b7c77e02eb723a8bedb"
      }
    }
  },
  "nbformat": 4,
  "nbformat_minor": 0
}